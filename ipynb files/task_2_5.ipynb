{
 "cells": [
  {
   "cell_type": "markdown",
   "metadata": {},
   "source": [
    "# Part 2_Task 5"
   ]
  },
  {
   "cell_type": "markdown",
   "metadata": {},
   "source": [
    "### Using Apache Airflow's Dummy Operator, create an Airflow Dag that runs task 1, followed by tasks 2, and 3 in parallel, followed by tasks 4, 5, 6 all in parallel."
   ]
  },
  {
   "cell_type": "markdown",
   "metadata": {},
   "source": [
    "#### Importing various packages"
   ]
  },
  {
   "cell_type": "code",
   "execution_count": null,
   "metadata": {},
   "outputs": [],
   "source": [
    "# importing airflow related DAG, DummyOperator, PythonOperator and BashOperator which will define the basic setup\n",
    "# we are not gonna use BashOperator and PythonOperator in this sample Airflow DAG\n",
    "\n",
    "# The DAG object; we'll need this to instantiate a DAG\n",
    "from airflow import DAG\n",
    "\n",
    "# Operators; we need this to operate!\n",
    "from airflow.operators.dummy_operator import DummyOperator\n",
    "from airflow.operators.python_operator import PythonOperator\n",
    "from airflow.operators.bash_operator import BashOperator\n",
    "\n",
    "# other packages\n",
    "from datetime import date, timedelta, datetime"
   ]
  },
  {
   "cell_type": "markdown",
   "metadata": {},
   "source": [
    "#### Setting up default_args"
   ]
  },
  {
   "cell_type": "code",
   "execution_count": null,
   "metadata": {},
   "outputs": [],
   "source": [
    "#Setting up default_args\n",
    "\n",
    "# These args will get passed on to each operator\n",
    "# We can override them on a per-task basis during operator initialization\n",
    "# Airflow offers a big number of default arguments that make DAG configuration even simpler\n",
    "\n",
    "default_args = {\n",
    "    'owner': 'airflow',\n",
    "    'depends_on_past': False,\n",
    "    'start_date': start_date,\n",
    "    'end_date': end_date,\n",
    "    'email': ['username@gmail.com'],\n",
    "    'email_on_failure': False,\n",
    "    'email_on_retry': False,\n",
    "    'retries': 0,\n",
    "    'retry_delay': timedelta(minutes=5),\n",
    "}"
   ]
  },
  {
   "cell_type": "markdown",
   "metadata": {},
   "source": [
    "#### Defining our DAG, Tasks, and Operators"
   ]
  },
  {
   "cell_type": "code",
   "execution_count": null,
   "metadata": {},
   "outputs": [],
   "source": [
    "def task1():\n",
    " # code that writes the dataset to a Spark dataframe\n",
    "\n",
    "def task2():\n",
    " # code that creates CSV output file under out/out_2_2.txt that lists the minimum price, \n",
    " # maximum price, and total row count from this dataset.\n",
    "\n",
    "def task3():\n",
    " # code that calculates the average number of bathrooms and bedrooms across all the properties \n",
    " # listed in this data set with a price of > 5000 and a review score being exactly equalt to 10.\n",
    "\n",
    "def task4():\n",
    " # code that calculates the accomodated people by the property with the lowest price and highest rating\n",
    "\n",
    "def task5():\n",
    " # code that define task5 \n",
    "\n",
    "def task6():\n",
    " # code that define task6"
   ]
  },
  {
   "cell_type": "markdown",
   "metadata": {},
   "source": [
    "#### Instantiate a DAG"
   ]
  },
  {
   "cell_type": "code",
   "execution_count": null,
   "metadata": {},
   "outputs": [],
   "source": [
    "#The DAG can then be instantiated as follows\n",
    "\n",
    "sample_dag = DAG(\n",
    "  dag_id='coding_challenge_dag', \n",
    "  description='Sample Airflow Dag that runs task 1, followed by tasks 2, and 3 in parallel, then by tasks 4, 5, 6 all in parallel',\n",
    "  default_args=default_args\n",
    ")"
   ]
  },
  {
   "cell_type": "markdown",
   "metadata": {},
   "source": [
    "#### Tasks"
   ]
  },
  {
   "cell_type": "code",
   "execution_count": null,
   "metadata": {},
   "outputs": [],
   "source": [
    "# This step consists of defining the tasks of DAG\n",
    "\n",
    "task1_load = DummyOperator(task_id='task1', dag=dag)\n",
    "\n",
    "task2_MinMax = DummyOperator(task_id='task2', dag=dag)\n",
    "\n",
    "task3_average = DummyOperator(task_id='task3', dag=dag)\n",
    "\n",
    "task4_accPeople = DummyOperator(task_id='task4', dag=dag)\n",
    "\n",
    "task5_airFlow = DummyOperator(task_id='task5', dag=dag)\n",
    "\n",
    "task6_unknown = DummyOperator(task_id='task6', dag=dag)"
   ]
  },
  {
   "cell_type": "markdown",
   "metadata": {},
   "source": [
    "#### Setting up Dependencies"
   ]
  },
  {
   "cell_type": "code",
   "execution_count": null,
   "metadata": {},
   "outputs": [],
   "source": [
    "# Lastly, we need to specify the dependencies. In our case, we want task_2 and task 3 to run in parallel after task_1,\n",
    "# then task_4, task_5 and task_6 in parallel:\n",
    "\n",
    "task1_load >> [task2_MinMax, task3_average]\n",
    "\n",
    "[task2_MinMax, task3_average] >> task4_accPeople\n",
    "\n",
    "[task2_MinMax, task3_average] >> task5_airFlow\n",
    "\n",
    "[task2_MinMax, task3_average] >> task6_unknown\n"
   ]
  },
  {
   "cell_type": "markdown",
   "metadata": {
    "raw_mimetype": "text/markdown"
   },
   "source": [
    "We can also use set_downstream() or set_upstream() to create the dependencies"
   ]
  },
  {
   "cell_type": "markdown",
   "metadata": {},
   "source": [
    "#### Adding the DAG to Airflow scheduler "
   ]
  },
  {
   "cell_type": "code",
   "execution_count": null,
   "metadata": {},
   "outputs": [],
   "source": [
    "#By using following commands we can start Airflow scheduler\n",
    "\n",
    "airflow webserver\n",
    "airflow scheduler"
   ]
  },
  {
   "cell_type": "markdown",
   "metadata": {},
   "source": [
    "#### Note:\n",
    "\n",
    "The question was asked to run tasks in parallel. For that we need to use LocalExecutor.\n",
    "\n",
    "Airflow uses a backend database to store metadata. The default database for Airflow is SQLite which supports only 1 connection at a time.\n",
    "\n",
    "So by default Airflow uses SequentialExecutor which would execute task sequentially. In order to execute tasks in parallel, we need to create a database in MySQL or PostgresSQL and configure it in airflow.cfg and then change the executor to LocalExecutor in airflow.cfg and then we need to run airflow initdb. Now, after successful completion of task 1 job, task 2 and task 3 will run in parallel followed by Task 4, 5 and 6.\n"
   ]
  },
  {
   "cell_type": "markdown",
   "metadata": {},
   "source": [
    "#### *\n",
    "I don't have pratical industry experience using Apache Airflow and I didn't get a chance to work on Airflow since we were using very similar tools for workflow automation and scheduling such as Skybot and Control Application(internally developed) in my previous organization.\n",
    "\n",
    "Using my conceptual knowledge and academic experience I tried my best to answer this question by taking reference from official Airflow documentation. https://airflow.apache.org/docs/apache-airflow/stable/index.html"
   ]
  },
  {
   "cell_type": "markdown",
   "metadata": {},
   "source": [
    "                                                        End"
   ]
  }
 ],
 "metadata": {
  "celltoolbar": "Raw Cell Format",
  "kernelspec": {
   "display_name": "Python 3",
   "language": "python",
   "name": "python3"
  },
  "language_info": {
   "codemirror_mode": {
    "name": "ipython",
    "version": 3
   },
   "file_extension": ".py",
   "mimetype": "text/x-python",
   "name": "python",
   "nbconvert_exporter": "python",
   "pygments_lexer": "ipython3",
   "version": "3.7.4"
  }
 },
 "nbformat": 4,
 "nbformat_minor": 2
}
