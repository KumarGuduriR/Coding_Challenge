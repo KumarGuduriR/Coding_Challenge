{
 "cells": [
  {
   "cell_type": "markdown",
   "metadata": {},
   "source": [
    "# Part 2: Spark Dataframe API"
   ]
  },
  {
   "cell_type": "code",
   "execution_count": 1,
   "metadata": {},
   "outputs": [],
   "source": [
    "#installing PySpark\n",
    "\n",
    "import findspark\n",
    "findspark.init()"
   ]
  },
  {
   "cell_type": "code",
   "execution_count": 2,
   "metadata": {},
   "outputs": [],
   "source": [
    "#importing neccessary libraries\n",
    "\n",
    "import csv\n",
    "from pyspark import SparkContext\n",
    "from pyspark.sql import SparkSession\n",
    "from pyspark.sql import SQLContext\n",
    "from pyspark.sql.functions import *"
   ]
  },
  {
   "cell_type": "code",
   "execution_count": 3,
   "metadata": {},
   "outputs": [],
   "source": [
    "#creating the SparkSession\n",
    "\n",
    "sc = SparkContext('local')\n",
    "spark = SparkSession(sc)"
   ]
  },
  {
   "cell_type": "markdown",
   "metadata": {},
   "source": [
    "# Part 2_Task 1"
   ]
  },
  {
   "cell_type": "markdown",
   "metadata": {},
   "source": [
    "### Download the parquet data file from the URL: (https://github.com/databricks/LearningSparkV2/blob/master/mlflow-project-example/data/sf-airbnb-clean.parquet) and load it into a Spark data frame."
   ]
  },
  {
   "cell_type": "code",
   "execution_count": 4,
   "metadata": {},
   "outputs": [],
   "source": [
    "#loading given airbnb.parquet dataset into Spark DataFrame\n",
    "\n",
    "airbnbDF = spark.read.parquet(\"airbnb.parquet\")"
   ]
  },
  {
   "cell_type": "code",
   "execution_count": 5,
   "metadata": {},
   "outputs": [
    {
     "data": {
      "text/plain": [
       "[Row(host_is_superhost='t', cancellation_policy='moderate', instant_bookable='t', host_total_listings_count=1.0, neighbourhood_cleansed='Western Addition', latitude=37.76931, longitude=-122.43386, property_type='Apartment', room_type='Entire home/apt', accommodates=3.0, bathrooms=1.0, bedrooms=1.0, beds=2.0, bed_type='Real Bed', minimum_nights=1.0, number_of_reviews=180.0, review_scores_rating=97.0, review_scores_accuracy=10.0, review_scores_cleanliness=10.0, review_scores_checkin=10.0, review_scores_communication=10.0, review_scores_location=10.0, review_scores_value=10.0, price=170.0, bedrooms_na=0.0, bathrooms_na=0.0, beds_na=0.0, review_scores_rating_na=0.0, review_scores_accuracy_na=0.0, review_scores_cleanliness_na=0.0, review_scores_checkin_na=0.0, review_scores_communication_na=0.0, review_scores_location_na=0.0, review_scores_value_na=0.0),\n",
       " Row(host_is_superhost='f', cancellation_policy='strict_14_with_grace_period', instant_bookable='f', host_total_listings_count=2.0, neighbourhood_cleansed='Bernal Heights', latitude=37.74511, longitude=-122.42102, property_type='Apartment', room_type='Entire home/apt', accommodates=5.0, bathrooms=1.0, bedrooms=2.0, beds=3.0, bed_type='Real Bed', minimum_nights=30.0, number_of_reviews=111.0, review_scores_rating=98.0, review_scores_accuracy=10.0, review_scores_cleanliness=10.0, review_scores_checkin=10.0, review_scores_communication=10.0, review_scores_location=10.0, review_scores_value=9.0, price=235.0, bedrooms_na=0.0, bathrooms_na=0.0, beds_na=0.0, review_scores_rating_na=0.0, review_scores_accuracy_na=0.0, review_scores_cleanliness_na=0.0, review_scores_checkin_na=0.0, review_scores_communication_na=0.0, review_scores_location_na=0.0, review_scores_value_na=0.0),\n",
       " Row(host_is_superhost='f', cancellation_policy='strict_14_with_grace_period', instant_bookable='f', host_total_listings_count=10.0, neighbourhood_cleansed='Haight Ashbury', latitude=37.76669, longitude=-122.4525, property_type='Apartment', room_type='Private room', accommodates=2.0, bathrooms=4.0, bedrooms=1.0, beds=1.0, bed_type='Real Bed', minimum_nights=32.0, number_of_reviews=17.0, review_scores_rating=85.0, review_scores_accuracy=8.0, review_scores_cleanliness=8.0, review_scores_checkin=9.0, review_scores_communication=9.0, review_scores_location=9.0, review_scores_value=8.0, price=65.0, bedrooms_na=0.0, bathrooms_na=0.0, beds_na=0.0, review_scores_rating_na=0.0, review_scores_accuracy_na=0.0, review_scores_cleanliness_na=0.0, review_scores_checkin_na=0.0, review_scores_communication_na=0.0, review_scores_location_na=0.0, review_scores_value_na=0.0),\n",
       " Row(host_is_superhost='f', cancellation_policy='strict_14_with_grace_period', instant_bookable='f', host_total_listings_count=10.0, neighbourhood_cleansed='Haight Ashbury', latitude=37.76487, longitude=-122.45183, property_type='Apartment', room_type='Private room', accommodates=2.0, bathrooms=4.0, bedrooms=1.0, beds=1.0, bed_type='Real Bed', minimum_nights=32.0, number_of_reviews=8.0, review_scores_rating=93.0, review_scores_accuracy=9.0, review_scores_cleanliness=9.0, review_scores_checkin=10.0, review_scores_communication=10.0, review_scores_location=9.0, review_scores_value=9.0, price=65.0, bedrooms_na=0.0, bathrooms_na=0.0, beds_na=0.0, review_scores_rating_na=0.0, review_scores_accuracy_na=0.0, review_scores_cleanliness_na=0.0, review_scores_checkin_na=0.0, review_scores_communication_na=0.0, review_scores_location_na=0.0, review_scores_value_na=0.0),\n",
       " Row(host_is_superhost='f', cancellation_policy='strict_14_with_grace_period', instant_bookable='f', host_total_listings_count=2.0, neighbourhood_cleansed='Western Addition', latitude=37.77525, longitude=-122.43637, property_type='House', room_type='Entire home/apt', accommodates=5.0, bathrooms=1.5, bedrooms=2.0, beds=2.0, bed_type='Real Bed', minimum_nights=7.0, number_of_reviews=27.0, review_scores_rating=97.0, review_scores_accuracy=10.0, review_scores_cleanliness=10.0, review_scores_checkin=10.0, review_scores_communication=10.0, review_scores_location=10.0, review_scores_value=9.0, price=785.0, bedrooms_na=0.0, bathrooms_na=0.0, beds_na=0.0, review_scores_rating_na=0.0, review_scores_accuracy_na=0.0, review_scores_cleanliness_na=0.0, review_scores_checkin_na=0.0, review_scores_communication_na=0.0, review_scores_location_na=0.0, review_scores_value_na=0.0)]"
      ]
     },
     "execution_count": 5,
     "metadata": {},
     "output_type": "execute_result"
    }
   ],
   "source": [
    "#displaying first 5 rows of a dataFrame\n",
    "\n",
    "airbnbDF.head(5)"
   ]
  },
  {
   "cell_type": "code",
   "execution_count": 6,
   "metadata": {},
   "outputs": [
    {
     "name": "stdout",
     "output_type": "stream",
     "text": [
      "7146\n"
     ]
    }
   ],
   "source": [
    "#displaying total number of rows in a AirBnB dataFrame\n",
    "\n",
    "print(airbnbDF.count())"
   ]
  },
  {
   "cell_type": "code",
   "execution_count": 7,
   "metadata": {},
   "outputs": [
    {
     "data": {
      "text/plain": [
       "34"
      ]
     },
     "execution_count": 7,
     "metadata": {},
     "output_type": "execute_result"
    }
   ],
   "source": [
    "#getting number of columns in a AirBnB dataFrame\n",
    "\n",
    "len(airbnbDF.columns)"
   ]
  },
  {
   "cell_type": "code",
   "execution_count": 8,
   "metadata": {},
   "outputs": [
    {
     "name": "stdout",
     "output_type": "stream",
     "text": [
      "root\n",
      " |-- host_is_superhost: string (nullable = true)\n",
      " |-- cancellation_policy: string (nullable = true)\n",
      " |-- instant_bookable: string (nullable = true)\n",
      " |-- host_total_listings_count: double (nullable = true)\n",
      " |-- neighbourhood_cleansed: string (nullable = true)\n",
      " |-- latitude: double (nullable = true)\n",
      " |-- longitude: double (nullable = true)\n",
      " |-- property_type: string (nullable = true)\n",
      " |-- room_type: string (nullable = true)\n",
      " |-- accommodates: double (nullable = true)\n",
      " |-- bathrooms: double (nullable = true)\n",
      " |-- bedrooms: double (nullable = true)\n",
      " |-- beds: double (nullable = true)\n",
      " |-- bed_type: string (nullable = true)\n",
      " |-- minimum_nights: double (nullable = true)\n",
      " |-- number_of_reviews: double (nullable = true)\n",
      " |-- review_scores_rating: double (nullable = true)\n",
      " |-- review_scores_accuracy: double (nullable = true)\n",
      " |-- review_scores_cleanliness: double (nullable = true)\n",
      " |-- review_scores_checkin: double (nullable = true)\n",
      " |-- review_scores_communication: double (nullable = true)\n",
      " |-- review_scores_location: double (nullable = true)\n",
      " |-- review_scores_value: double (nullable = true)\n",
      " |-- price: double (nullable = true)\n",
      " |-- bedrooms_na: double (nullable = true)\n",
      " |-- bathrooms_na: double (nullable = true)\n",
      " |-- beds_na: double (nullable = true)\n",
      " |-- review_scores_rating_na: double (nullable = true)\n",
      " |-- review_scores_accuracy_na: double (nullable = true)\n",
      " |-- review_scores_cleanliness_na: double (nullable = true)\n",
      " |-- review_scores_checkin_na: double (nullable = true)\n",
      " |-- review_scores_communication_na: double (nullable = true)\n",
      " |-- review_scores_location_na: double (nullable = true)\n",
      " |-- review_scores_value_na: double (nullable = true)\n",
      "\n"
     ]
    }
   ],
   "source": [
    "#displaying all the columns in a AirBnB dataFrame \n",
    "\n",
    "airbnbDF.printSchema()"
   ]
  },
  {
   "cell_type": "code",
   "execution_count": 9,
   "metadata": {},
   "outputs": [],
   "source": [
    "import pyspark.sql.functions as F\n",
    "\n",
    "df_agg = airbnbDF.agg(*[F.count(F.when(F.isnull(c), c)).alias(c) for c in airbnbDF.columns])"
   ]
  },
  {
   "cell_type": "code",
   "execution_count": 10,
   "metadata": {},
   "outputs": [
    {
     "name": "stdout",
     "output_type": "stream",
     "text": [
      "+-----------------+-------------------+----------------+-------------------------+----------------------+--------+---------+-------------+---------+------------+---------+--------+----+--------+--------------+-----------------+--------------------+----------------------+-------------------------+---------------------+---------------------------+----------------------+-------------------+-----+-----------+------------+-------+-----------------------+-------------------------+----------------------------+------------------------+------------------------------+-------------------------+----------------------+\n",
      "|host_is_superhost|cancellation_policy|instant_bookable|host_total_listings_count|neighbourhood_cleansed|latitude|longitude|property_type|room_type|accommodates|bathrooms|bedrooms|beds|bed_type|minimum_nights|number_of_reviews|review_scores_rating|review_scores_accuracy|review_scores_cleanliness|review_scores_checkin|review_scores_communication|review_scores_location|review_scores_value|price|bedrooms_na|bathrooms_na|beds_na|review_scores_rating_na|review_scores_accuracy_na|review_scores_cleanliness_na|review_scores_checkin_na|review_scores_communication_na|review_scores_location_na|review_scores_value_na|\n",
      "+-----------------+-------------------+----------------+-------------------------+----------------------+--------+---------+-------------+---------+------------+---------+--------+----+--------+--------------+-----------------+--------------------+----------------------+-------------------------+---------------------+---------------------------+----------------------+-------------------+-----+-----------+------------+-------+-----------------------+-------------------------+----------------------------+------------------------+------------------------------+-------------------------+----------------------+\n",
      "|                0|                  0|               0|                        0|                     0|       0|        0|            0|        0|           0|        0|       0|   0|       0|             0|                0|                   0|                     0|                        0|                    0|                          0|                     0|                  0|    0|          0|           0|      0|                      0|                        0|                           0|                       0|                             0|                        0|                     0|\n",
      "+-----------------+-------------------+----------------+-------------------------+----------------------+--------+---------+-------------+---------+------------+---------+--------+----+--------+--------------+-----------------+--------------------+----------------------+-------------------------+---------------------+---------------------------+----------------------+-------------------+-----+-----------+------------+-------+-----------------------+-------------------------+----------------------------+------------------------+------------------------------+-------------------------+----------------------+\n",
      "\n"
     ]
    }
   ],
   "source": [
    "df_agg.show()"
   ]
  },
  {
   "cell_type": "markdown",
   "metadata": {},
   "source": [
    "# Part 2_Task 2"
   ]
  },
  {
   "cell_type": "markdown",
   "metadata": {},
   "source": [
    "### Create CSV output file: out_2_2.txt that lists the minimum price, maximum price, and total row count from the dataset. Use the following output column names in the resultant file: min_price, max_price, row_count"
   ]
  },
  {
   "cell_type": "code",
   "execution_count": 11,
   "metadata": {},
   "outputs": [],
   "source": [
    "#getting minimum and maximum price and total row count from AirBnB DataFrame\n",
    "\n",
    "minMaxCountDF = airbnbDF.select(min(\"price\").alias(\"min_price\"), max(\"price\").alias(\"max_price\") , count(\"price\").alias(\"row_count\"))"
   ]
  },
  {
   "cell_type": "code",
   "execution_count": 12,
   "metadata": {},
   "outputs": [
    {
     "name": "stdout",
     "output_type": "stream",
     "text": [
      "+---------+---------+---------+\n",
      "|min_price|max_price|row_count|\n",
      "+---------+---------+---------+\n",
      "|     10.0|  10000.0|     7146|\n",
      "+---------+---------+---------+\n",
      "\n"
     ]
    }
   ],
   "source": [
    "#displaying minimum and maximum price and total row count from AirBnB DataFrame\n",
    "\n",
    "minMaxCountDF.show()"
   ]
  },
  {
   "cell_type": "code",
   "execution_count": 21,
   "metadata": {},
   "outputs": [],
   "source": [
    "#writing the result to a CSV output file with column names: out_2_2.txt\n",
    "\n",
    "minMaxCountDF.repartition(1).write.mode(\"overwrite\").format(\"csv\").option(\"header\", \"true\").save(\"out_2_2.txt\")"
   ]
  },
  {
   "cell_type": "markdown",
   "metadata": {},
   "source": [
    "# Part 2_Task 3"
   ]
  },
  {
   "cell_type": "markdown",
   "metadata": {},
   "source": [
    "### Calculate the average number of bathrooms and bedrooms across all the properties listed in the data set with a price of > 5000 and a review score being exactly equalt to 10. Write the results into a CSV file: out_2_3.txt with the following column headers: avg_bathrooms, avg_bedrooms"
   ]
  },
  {
   "cell_type": "code",
   "execution_count": 24,
   "metadata": {},
   "outputs": [],
   "source": [
    "#calculating the average number of bathrooms and bedrooms across all the properties listed in the data set with a \n",
    "#price of > 5000 and a review score being exactly equalt to 10.\n",
    "\n",
    "#There are so many columns with review scores and the question didn't mentioned the exact column name.\n",
    "#So assuming \"review_scores_value\" column as review score.\n",
    "\n",
    "avgBathBedDF = airbnbDF.filter((airbnbDF['price'] > 5000)&(airbnbDF['review_scores_value'] == 10)).select(avg(\"Bathrooms\").alias(\"avg_bathrooms\"), avg(\"Bedrooms\").alias(\"avg_bedrooms\"))"
   ]
  },
  {
   "cell_type": "code",
   "execution_count": 25,
   "metadata": {},
   "outputs": [
    {
     "name": "stdout",
     "output_type": "stream",
     "text": [
      "+-------------+------------+\n",
      "|avg_bathrooms|avg_bedrooms|\n",
      "+-------------+------------+\n",
      "|        2.375|         3.0|\n",
      "+-------------+------------+\n",
      "\n"
     ]
    }
   ],
   "source": [
    "#displaying average number of bathrooms and bedrooms from AirBnB DataFrame\n",
    "\n",
    "avgBathBedDF.show()"
   ]
  },
  {
   "cell_type": "code",
   "execution_count": 16,
   "metadata": {},
   "outputs": [],
   "source": [
    "#writing the result to a CSV output file with column names: out_2_3.txt\n",
    "\n",
    "avgBathBedDF.repartition(1).write.mode(\"overwrite\").format(\"csv\").option(\"header\", \"true\").save(\"out_2_3.txt\")"
   ]
  },
  {
   "cell_type": "code",
   "execution_count": 26,
   "metadata": {},
   "outputs": [],
   "source": [
    "# Assuming the average number of bathrooms and bedrooms should be a round value. \n",
    "# However I am not writing out this result to output file.\n",
    "\n",
    "avgBathBedDF_temp = airbnbDF.filter((airbnbDF['price'] > 5000)&(airbnbDF['review_scores_value'] == 10)).select(round(avg(\"Bathrooms\")).alias(\"avg_bathrooms\"), round(avg(\"Bedrooms\")).alias(\"avg_bedrooms\"))"
   ]
  },
  {
   "cell_type": "code",
   "execution_count": 27,
   "metadata": {},
   "outputs": [
    {
     "name": "stdout",
     "output_type": "stream",
     "text": [
      "+-------------+------------+\n",
      "|avg_bathrooms|avg_bedrooms|\n",
      "+-------------+------------+\n",
      "|          2.0|         3.0|\n",
      "+-------------+------------+\n",
      "\n"
     ]
    }
   ],
   "source": [
    "#displaying average number of bathrooms and bedrooms(round value) from AirBnB DataFrame\n",
    "\n",
    "avgBathBedDF_temp.show()"
   ]
  },
  {
   "cell_type": "markdown",
   "metadata": {},
   "source": [
    "# Part 2_Task 4"
   ]
  },
  {
   "cell_type": "markdown",
   "metadata": {},
   "source": [
    "### How many people can be accomodated by the property with the lowest price and highest rating? Write the resulting number to a text file: out_2_4.txt ."
   ]
  },
  {
   "cell_type": "code",
   "execution_count": 17,
   "metadata": {},
   "outputs": [],
   "source": [
    "#getting all the accomodates based on the price and rating.\n",
    "\n",
    "#Assuming \"review_scores_rating\" column as rating column\n",
    "\n",
    "groupingDF = airbnbDF.select(\"accommodates\",\"price\",\"review_scores_rating\").groupBy(\"price\",\"review_scores_rating\").sum(\"accommodates\")"
   ]
  },
  {
   "cell_type": "code",
   "execution_count": 18,
   "metadata": {},
   "outputs": [],
   "source": [
    "#getting number of people can be accomodated by the property with the lowest price and highest rating\n",
    "\n",
    "accomodateDF = groupingDF.sort(groupingDF.price.asc(),groupingDF.review_scores_rating.desc()).limit(1)"
   ]
  },
  {
   "cell_type": "code",
   "execution_count": 19,
   "metadata": {},
   "outputs": [
    {
     "name": "stdout",
     "output_type": "stream",
     "text": [
      "+-----+--------------------+-----------------+\n",
      "|price|review_scores_rating|sum(accommodates)|\n",
      "+-----+--------------------+-----------------+\n",
      "| 10.0|               100.0|              2.0|\n",
      "+-----+--------------------+-----------------+\n",
      "\n"
     ]
    }
   ],
   "source": [
    "#displaying the result\n",
    "\n",
    "accomodateDF.show()"
   ]
  },
  {
   "cell_type": "code",
   "execution_count": 20,
   "metadata": {},
   "outputs": [],
   "source": [
    "##writing only the resulting number to a text output file: out_2_3.txt\n",
    "\n",
    "accomodateDF.select('sum(accommodates)').write.mode(\"overwrite\").format(\"csv\").save(\"out_2_4.txt\")"
   ]
  },
  {
   "cell_type": "markdown",
   "metadata": {},
   "source": [
    "                                        End of Task 1, 2, 3, 4 of Part 2"
   ]
  },
  {
   "cell_type": "markdown",
   "metadata": {},
   "source": [
    "                                Task 5 of Part 2 is in a seperate task_2_5.py file"
   ]
  }
 ],
 "metadata": {
  "kernelspec": {
   "display_name": "Python 3",
   "language": "python",
   "name": "python3"
  },
  "language_info": {
   "codemirror_mode": {
    "name": "ipython",
    "version": 3
   },
   "file_extension": ".py",
   "mimetype": "text/x-python",
   "name": "python",
   "nbconvert_exporter": "python",
   "pygments_lexer": "ipython3",
   "version": "3.7.4"
  }
 },
 "nbformat": 4,
 "nbformat_minor": 2
}
